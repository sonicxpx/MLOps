{
 "cells": [
  {
   "cell_type": "markdown",
   "metadata": {
    "id": "f0b4dc1e-3ada-4669-84d6-d6331f5ab979"
   },
   "source": [
    "# Overview #\n",
    "In this notebook, you leverage the cpdctl command to copy assets from one deployment space of Cloud Pak for Data to another deployment space. This is typically applicable in MLOps process where you want to promote the relevant data assets and AI models from an initial deployment space, such as Pre-Prod (or UAT) deployment space, to another deployment space, such as Prod deployment space.\n",
    "\n",
    "For purposes of AI governance as well as CI/CD component of MLOps, it is important to be able to automate the process of promoting relevant assets from one deployment space owner by development team to another deployment space owned by the QA team.\n",
    "\n",
    "Please note that the two deployment spaces could exist on the same Cloud Pak for Data cluster or could belong to two different Cloud Pak for Data clusters in different environments."
   ]
  },
  {
   "cell_type": "markdown",
   "metadata": {
    "id": "89faef9d-f978-4c25-bf7e-a07f802142b9"
   },
   "source": [
    "### Execution Steps ###\n",
    "In order to leverage cpdctl to copy assets from one deployment space to another, you need to provide the following information:\n",
    "- SOURCE_CPD_URL : The url for the source Cloud Pak for Data cluster\n",
    "- SOURCE_CPD_USERNAME: The username for the source Cloud Pak for Data cluster\n",
    "- SOURCE_CPD_PASSWORD: The password for the source Cloud Pak for Data cluster\n",
    "- TARGET_CPD_URL : The url for the target Cloud Pak for Data cluster\n",
    "- TARGET_CPD_USERNAME: The username for the target Cloud Pak for Data cluster\n",
    "- TARGET_CPD_PASSWORD: The password for the target Cloud Pak for Data cluster\n",
    "- SOURCE_DEPLOYMENT_SPACE_NAME: The name of the deployment space on the source Cloud Pak for Data cluster (source deployment space should exist).\n",
    "- TARGET_DEPLOYMENT_SPACE_NAME: The name of the deployment space on the target Cloud Pak for Data cluster (any name you choose since it will be created).\n",
    "- TARGET_MODEL_NAME: The name of the model in the atarget deployment space (any name you choose since it will be created).\n",
    "\n",
    "Given this information, this notebook will define the cpdctl contexts corresponding to the source and target Cloud Pak for Data clusters, create a new deployment space on the target cluster, and copy all assets from the source deployment space to the target deployment space.\n",
    "\n",
    "The code assumes that the SOURCE_DEPLOYMENT_SPACE_NAME exists and contains the relevant assets and that the TARGET_DEPLOYMENT_SPACE_NAME also exists but has no assets."
   ]
  },
  {
   "cell_type": "code",
   "execution_count": null,
   "metadata": {
    "id": "9438dc25-a0e9-4efa-ac20-afe885a0d3be"
   },
   "outputs": [],
   "source": [
    "# Import required libraries and modules\n",
    "import base64\n",
    "import json\n",
    "import os\n",
    "import platform\n",
    "import requests\n",
    "import tarfile\n",
    "import zipfile\n",
    "import jmespath\n",
    "import subprocess\n",
    "from IPython.core.display import display, HTML"
   ]
  },
  {
   "cell_type": "markdown",
   "metadata": {
    "id": "8f1a0c39-2aa1-4ea2-84e9-e94b5fb5095e"
   },
   "source": [
    "## Credentials for Cloud Pak for Data and Deployment Spaces \n",
    "Please update the information below to include the Deployment Spaces and credentials for Cloud Pak for Data. The provided credentials should have the permissions to edit and update deployment spaces. Typically, **datascientist** user with Data Scientist role can have the right permissions to manage deployment spaces.\n",
    "\n",
    "For the Cloud Pak for Data url, if you are running on an environment hosted on Skytap, make sure to use the internal URL. You can get the correct url by running the following command in the openshift cluster.\n",
    "**oc get ZenService lite-cr -o jsonpath=\"{.status.url}{'\\n'}\"**\n",
    "\n",
    "Alternatively, you can log into the OpenShift web consolve, navigate to Networking ==> Routes and find the Cloud Pak for Data url under Location."
   ]
  },
  {
   "cell_type": "code",
   "execution_count": null,
   "metadata": {
    "id": "ebe4a310baac4f288560ffe1650820ab",
    "scrolled": true
   },
   "outputs": [],
   "source": [
    "SOURCE_CPD_USERNAME = '<USERNAME_WITH_ACCESS_TO_SOURCE_DEPLOYMENT_SPACE>' # for example: datascientist\n",
    "SOURCE_CPD_PASSWORD = '<PASSWORD_FOR_SOURCE_CPD_USERNAME>'\n",
    "SOURCE_CPD_URL = '<CLOUD PAK FOR DATA URL FOR SOURCE CLUSTER>' #typically, this would be https://cpd-cpd-instance.apps.demo.ibmdte.net\n",
    "\n",
    "TARGET_CPD_USERNAME = '<USERNAME_WITH_ACCESS_TO_TARGET_DEPLOYMENT_SPACE>' # for example: datascientist\n",
    "TARGET_CPD_PASSWORD = '<PASSWORD_FOR_TARGET_CPD_USERNAME>'\n",
    "TARGET_CPD_URL = '<CLOUD PAK FOR DATA URL FOR TARGET CLUSTER>' #typically, this would be https://cpd-cpd-instance.apps.demo.ibmdte.net\n",
    "\n",
    "# Code assumes both deployment spaces exist\n",
    "SOURCE_DEPLOYMENT_SPACE_NAME='<NAME OF SOURCE DEPLOYMENT SPACE>' # For example: 'churnUATspace'\n",
    "TARGET_DEPLOYMENT_SPACE_NAME='<NAME OF TARGET DEPLOYMENT SPACE>' # For example: 'churn_prod_space'\n",
    "\n",
    "TARGET_MODEL_NAME='<TARGET DEPLOYMENT NAME>' # Any name to assign to target deployment, for example; ChurnPredictionProd"
   ]
  },
  {
   "cell_type": "markdown",
   "metadata": {
    "id": "1b5f09d6-fcbe-43bc-bbb3-59601d50f200"
   },
   "source": [
    "### Install the version v1.0.105 of `cpdctl`\n"
   ]
  },
  {
   "cell_type": "code",
   "execution_count": null,
   "metadata": {
    "id": "7838e50cbe92485b8024d4ba5df71305"
   },
   "outputs": [],
   "source": [
    "PLATFORM = platform.system().lower()\n",
    "CPDCTL_ARCH = \"{}_amd64\".format(PLATFORM)\n",
    "CPDCTL_RELEASES_URL=\"https://api.github.com/repos/IBM/cpdctl/releases\"\n",
    "CWD = os.getcwd()\n",
    "PATH = os.environ['PATH']\n",
    "CPDCONFIG = os.path.join(CWD, '.cpdctl.config.yml')\n",
    "version='v1.0.105'\n",
    "\n",
    "response = requests.get(CPDCTL_RELEASES_URL)\n",
    "asset_version = next(a for a in response.json() if version==a['tag_name'])\n",
    "#assets = response.json()[0]['assets']\n",
    "assets=asset_version['assets']\n",
    "platform_asset = next(a for a in assets if CPDCTL_ARCH in a['name'])\n",
    "cpdctl_url = platform_asset['url']\n",
    "cpdctl_file_name = platform_asset['name']\n",
    "\n",
    "response = requests.get(cpdctl_url, headers={'Accept': 'application/octet-stream'})\n",
    "with open(cpdctl_file_name, 'wb') as f:\n",
    "    f.write(response.content)\n",
    "    \n",
    "display(HTML('<code>cpdctl</code> binary downloaded from: <a href=\"{}\">{}</a>'.format(platform_asset['browser_download_url'], platform_asset['name'])))"
   ]
  },
  {
   "cell_type": "code",
   "execution_count": null,
   "metadata": {
    "id": "da5ac86a-ade7-45af-a178-ac3905229247"
   },
   "outputs": [],
   "source": [
    "%%capture\n",
    "\n",
    "%env PATH={CWD}:{PATH}\n",
    "%env CPDCONFIG={CPDCONFIG}"
   ]
  },
  {
   "cell_type": "code",
   "execution_count": null,
   "metadata": {
    "id": "fa2b38a9-0654-47e8-b02f-8c9232dceec8"
   },
   "outputs": [],
   "source": [
    "if cpdctl_file_name.endswith('tar.gz'):\n",
    "    with tarfile.open(cpdctl_file_name, \"r:gz\") as tar:\n",
    "        tar.extractall()\n",
    "elif cpdctl_file_name.endswith('zip'):\n",
    "    with zipfile.ZipFile(cpdctl_file_name, 'r') as zf:\n",
    "        zf.extractall()\n",
    "\n",
    "if CPDCONFIG and os.path.exists(CPDCONFIG):\n",
    "    os.remove(CPDCONFIG)\n",
    "    \n",
    "version_r = ! cpdctl version\n",
    "CPDCTL_VERSION = version_r.s\n",
    "\n",
    "print(\"cpdctl version: {}\".format(CPDCTL_VERSION))"
   ]
  },
  {
   "cell_type": "code",
   "execution_count": null,
   "metadata": {
    "id": "9e026404-d3b0-48f2-8aa0-8fd84160d736"
   },
   "outputs": [],
   "source": [
    "!which cpdctl"
   ]
  },
  {
   "cell_type": "markdown",
   "metadata": {
    "id": "fdef80dd-b39b-4e27-a31d-a006703cd828"
   },
   "source": [
    "# CPDCTL Demo\n",
    "\n",
    "AI Lifecycle automation using `cpdctl` CLI tool with one CPD 4.0 cluster and two different deployment spaces\n",
    "- 'UAT': UAT or Pre-Prod Deployment Space\n",
    "- 'PROD': Prod Deployment Space"
   ]
  },
  {
   "cell_type": "markdown",
   "metadata": {
    "id": "aeee479d-f117-4293-b1cf-2331717d54ed"
   },
   "source": [
    "### Add CPD 4.0 cluster configuration"
   ]
  },
  {
   "cell_type": "markdown",
   "metadata": {
    "id": "92e74b2b-2771-473c-90cf-2742ecba4044"
   },
   "source": [
    "Add \"source_user\" user to the `cpdctl` configuration"
   ]
  },
  {
   "cell_type": "code",
   "execution_count": null,
   "metadata": {
    "id": "d6bb0cec-9b99-4fbf-acbb-29c8141cc47a"
   },
   "outputs": [],
   "source": [
    "! cpdctl config user set source_user_2 --username {SOURCE_CPD_USERNAME} --password {SOURCE_CPD_PASSWORD}"
   ]
  },
  {
   "cell_type": "code",
   "execution_count": null,
   "metadata": {
    "id": "c6ce3c7ae1df4171a8abe7126a316835"
   },
   "outputs": [],
   "source": [
    "! cpdctl config user list"
   ]
  },
  {
   "cell_type": "markdown",
   "metadata": {
    "id": "bf0ee094-3a86-4125-8439-2d5cb75c391a"
   },
   "source": [
    "Add \"source\" cluster to the `cpdctl` configuration"
   ]
  },
  {
   "cell_type": "code",
   "execution_count": null,
   "metadata": {
    "id": "fe4c78ac-b720-425a-8a15-3632905772c5"
   },
   "outputs": [],
   "source": [
    "! cpdctl config profile set source_2 --url {SOURCE_CPD_URL} --user source_user_2"
   ]
  },
  {
   "cell_type": "markdown",
   "metadata": {
    "id": "99db59fa-ab9f-4d73-b9d5-b835125bce06"
   },
   "source": [
    "Add \"source\" context to the `cpdctl` configuration"
   ]
  },
  {
   "cell_type": "code",
   "execution_count": null,
   "metadata": {
    "id": "b87a7fdf-640a-4000-bbad-dddca352bf57"
   },
   "outputs": [],
   "source": [
    "! cpdctl config context set source --profile source_2 --user source_user_2"
   ]
  },
  {
   "cell_type": "markdown",
   "metadata": {
    "id": "4c036d2a-d28e-4c5a-992e-fc2d89d0da1e"
   },
   "source": [
    "List available contexts"
   ]
  },
  {
   "cell_type": "code",
   "execution_count": null,
   "metadata": {
    "id": "e16bdf6d-31fe-4b86-93c0-44effd8d37b5"
   },
   "outputs": [],
   "source": [
    "! cpdctl config context list"
   ]
  },
  {
   "cell_type": "code",
   "execution_count": null,
   "metadata": {
    "id": "5b6aaab8-868f-44e7-b3f9-61c980109b50"
   },
   "outputs": [],
   "source": [
    "! cpdctl config context use source"
   ]
  },
  {
   "cell_type": "code",
   "execution_count": null,
   "metadata": {
    "id": "b8437d23f8e94b428055d0199de39314"
   },
   "outputs": [],
   "source": [
    "! cpdctl space list"
   ]
  },
  {
   "cell_type": "markdown",
   "metadata": {
    "id": "a9b523d0-61cd-4c60-879f-965541bd7cb3"
   },
   "source": [
    "List available projects in \"source\" context"
   ]
  },
  {
   "cell_type": "code",
   "execution_count": null,
   "metadata": {
    "id": "7d9eba05-b326-413b-a03b-57c4da967d52"
   },
   "outputs": [],
   "source": [
    "! cpdctl project list"
   ]
  },
  {
   "cell_type": "markdown",
   "metadata": {
    "id": "64cb1468-d111-4348-8eae-ff7cec56db4a"
   },
   "source": [
    "### TARGET cluster configuration ###\n",
    "In this case, it is the same CPD 4.0 cluster but we're keeping it in general below so you can point to other clusters"
   ]
  },
  {
   "cell_type": "markdown",
   "metadata": {
    "id": "f3b6875c-4f48-44aa-8777-bdd7d9bcb553"
   },
   "source": [
    "Add \"target_user\" user to the `cpdctl` configuration"
   ]
  },
  {
   "cell_type": "code",
   "execution_count": null,
   "metadata": {
    "id": "b663d8da-649a-4559-a379-e0edb69a6c2a"
   },
   "outputs": [],
   "source": [
    "! cpdctl config user set target_user --username {TARGET_CPD_USERNAME} --password {TARGET_CPD_PASSWORD}"
   ]
  },
  {
   "cell_type": "markdown",
   "metadata": {
    "id": "a5c14b4b-c609-4406-81e5-d055ca8ce7ba"
   },
   "source": [
    "Add \"target\" cluster to the `cpdctl` configuration"
   ]
  },
  {
   "cell_type": "code",
   "execution_count": null,
   "metadata": {
    "id": "a5d968a3-a0fa-4d89-8873-e2832cbb4e8e"
   },
   "outputs": [],
   "source": [
    "! cpdctl config profile set target --url {TARGET_CPD_URL} --user target_user"
   ]
  },
  {
   "cell_type": "markdown",
   "metadata": {
    "id": "3288146c-825c-402e-8c14-865239b2f29b"
   },
   "source": [
    "Add \"target\" context to the `cpdctl` configuration"
   ]
  },
  {
   "cell_type": "code",
   "execution_count": null,
   "metadata": {
    "id": "bb6b0a88-ae86-49f5-a4bf-9f1566f9cb82"
   },
   "outputs": [],
   "source": [
    "! cpdctl config context set target --profile target --user target_user"
   ]
  },
  {
   "cell_type": "markdown",
   "metadata": {
    "id": "506533b8-7f03-4191-a66c-f1ef0c6385be"
   },
   "source": [
    "List available contexts"
   ]
  },
  {
   "cell_type": "code",
   "execution_count": null,
   "metadata": {
    "id": "f846ce86-e1d9-48d7-a056-bbcf22261842"
   },
   "outputs": [],
   "source": [
    "! cpdctl config context list"
   ]
  },
  {
   "cell_type": "code",
   "execution_count": null,
   "metadata": {
    "id": "a5b1f1c5-211d-42c1-816e-432c74250a1b"
   },
   "outputs": [],
   "source": [
    "! cpdctl config context use target"
   ]
  },
  {
   "cell_type": "code",
   "execution_count": null,
   "metadata": {
    "id": "1a976c31-7192-47d9-8717-d6f047ad6ebb"
   },
   "outputs": [],
   "source": [
    "! cpdctl project list"
   ]
  },
  {
   "cell_type": "markdown",
   "metadata": {
    "id": "5e167d3e-47fc-47d0-8d73-9886562c64fd"
   },
   "source": [
    "## Get Deployment Space IDs"
   ]
  },
  {
   "cell_type": "code",
   "execution_count": null,
   "metadata": {
    "id": "0316d9ab-c3fa-43a1-855d-3793911749f8"
   },
   "outputs": [],
   "source": [
    "def getSpaceID(name, cluster):\n",
    "    cmd=\"cpdctl space list --context \" + cluster + \" --output json\" + \" --jmes-query \\\"resources[?entity.name == \" + \"'\" + name + \"'\" + \"].metadata.id\\\"\"  \n",
    "    print(\"executing command: \", cmd)\n",
    "    \n",
    "    result = subprocess.getoutput(cmd)\n",
    "    space_id=json.loads(result)\n",
    "    if len(space_id) != 1:\n",
    "        print(\"Error, found \", len(space_id), \" spaces with the name: \", name)\n",
    "    return space_id[0]\n"
   ]
  },
  {
   "cell_type": "code",
   "execution_count": null,
   "metadata": {
    "id": "45204718-1d09-4221-aff2-cb00df1dbfff"
   },
   "outputs": [],
   "source": [
    "source_deployment_spaceID=getSpaceID(SOURCE_DEPLOYMENT_SPACE_NAME, 'source')\n",
    "print(\"Source Deployment Space ID: \", source_deployment_spaceID)"
   ]
  },
  {
   "cell_type": "markdown",
   "metadata": {
    "id": "09258cd8-1799-475c-8b04-1be3fc0e943a"
   },
   "source": [
    "Export All Assets from the dev deploymentspace"
   ]
  },
  {
   "cell_type": "code",
   "execution_count": null,
   "metadata": {
    "id": "2bc20766-e355-4418-8398-6bb5254d58c6"
   },
   "outputs": [],
   "source": [
    "EXPORT = {\n",
    "    'all_assets': True\n",
    "}\n",
    "EXPORT_JSON = json.dumps(EXPORT)\n",
    "! cpdctl config context use source\n",
    "result = ! cpdctl asset export start --space-id {source_deployment_spaceID} --assets '{EXPORT_JSON}' --name source-space-assets --output json --jmes-query \"metadata.id\"\n",
    "EXPORT_ID = result.s\n",
    "print(\"The new export with ID: {}\".format(EXPORT_ID))"
   ]
  },
  {
   "cell_type": "code",
   "execution_count": null,
   "metadata": {
    "id": "0401a3cb-e8c8-497d-a1f3-8c5ffa815012"
   },
   "outputs": [],
   "source": [
    "! cpdctl asset export download --space-id {source_deployment_spaceID} --export-id {EXPORT_ID} --output-file source-space-assets.zip"
   ]
  },
  {
   "cell_type": "code",
   "execution_count": null,
   "metadata": {
    "id": "3e876b5f-6322-429f-ab80-62f284c3da80"
   },
   "outputs": [],
   "source": [
    "# Create New Space using the TARGET_DEPLOYMENT_SPACE_NAME in the TARGET_CPD_CLUSTER\n",
    "! cpdctl config context use 'target'\n",
    "#! cpdctl space create --name {TARGET_DEPLOYMENT_SPACE_NAME}"
   ]
  },
  {
   "cell_type": "code",
   "execution_count": null,
   "metadata": {
    "id": "04d82ef3-4896-4937-b562-47ae37a1f47c"
   },
   "outputs": [],
   "source": [
    "TARGET_SPACE_ID=getSpaceID(TARGET_DEPLOYMENT_SPACE_NAME, 'target')\n",
    "print(\"Target Deployment Space ID: \", TARGET_SPACE_ID)"
   ]
  },
  {
   "cell_type": "code",
   "execution_count": null,
   "metadata": {
    "id": "4a977039-3a89-4add-816e-116c8665a1bb"
   },
   "outputs": [],
   "source": [
    "# Get list of spaces to confirm\n",
    "! cpdctl space list --context target"
   ]
  },
  {
   "cell_type": "code",
   "execution_count": null,
   "metadata": {
    "id": "cbfc8eee-3566-4344-89b0-d35a9cf9bb80"
   },
   "outputs": [],
   "source": [
    "result = ! cpdctl asset import start --space-id {TARGET_SPACE_ID} --import-file source-space-assets.zip --output json --jmes-query \"metadata.id\" --raw-output\n",
    "IMPORT_ID = result.s\n",
    "print(\"The new import ID is: {}\".format(IMPORT_ID))"
   ]
  },
  {
   "cell_type": "code",
   "execution_count": null,
   "metadata": {
    "id": "bed3fde4-f3ea-4311-9aea-07acd8457c4f"
   },
   "outputs": [],
   "source": [
    "! cpdctl asset import get --space-id {TARGET_SPACE_ID} --import-id {IMPORT_ID}"
   ]
  },
  {
   "cell_type": "code",
   "execution_count": null,
   "metadata": {
    "id": "3e3a339fab5540e292b71d50b09cfd1f"
   },
   "outputs": [],
   "source": [
    "! cpdctl ml model list --space-id {TARGET_SPACE_ID}"
   ]
  },
  {
   "cell_type": "code",
   "execution_count": null,
   "metadata": {
    "id": "0e537d908d234e05b691d1d85a81b9fd"
   },
   "outputs": [],
   "source": [
    "result = ! cpdctl ml model list --space-id {TARGET_SPACE_ID} --output json --jmes-query \"resources[0].metadata.id\" --raw-output\n",
    "TARGET_MODEL_ID = result.s\n",
    "print(\"TARGET model ID is: {}\".format(TARGET_MODEL_ID))"
   ]
  },
  {
   "cell_type": "code",
   "execution_count": null,
   "metadata": {
    "id": "2f780f1f-7f87-420b-8a53-2e78569ff4a3"
   },
   "outputs": [],
   "source": [
    "ASSET_JSON = json.dumps({\"id\": TARGET_MODEL_ID})\n",
    "ONLINE_JSON = json.dumps({})\n",
    "\n",
    "! cpdctl ml deployment create --space-id {TARGET_SPACE_ID} --asset '{ASSET_JSON}' --online '{ONLINE_JSON}' --name {TARGET_MODEL_NAME}"
   ]
  },
  {
   "cell_type": "markdown",
   "metadata": {
    "id": "65e4ce12-c47d-447c-ab9e-87328b728d61"
   },
   "source": [
    "## Verify Deployment ##\n",
    "At this point, a new model deployment should appear in your target deployment space.\n",
    "\n",
    "1. Navigate to your target deployment space: Select the Navigation Menu (top left hamburger icon), right click on *Deployments*, and select *Open Link in New Tab*.\n",
    "2. In the new tab, select the *Spaces* tab and click on the name of the target deployment space (for example, *qa*)\n",
    "3. On the Deployments/\\<target space name\\> page, click on *Deployments* tab.\n",
    "4. Verify the *TARGET_MODEL_NAME* appears in the list of deployed models. Click the *TARGET_MODEL_NAME* model.\n",
    "5. On the Deployed model page, click the Test tab and provide a sample test to validate the model returns predictions as expected.\n",
    "\n",
    "    "
   ]
  },
  {
   "cell_type": "code",
   "execution_count": null,
   "metadata": {
    "id": "28869aef4b9c411383a276c12624342c"
   },
   "outputs": [],
   "source": [
    "cpdtoken=os.environ['USER_ACCESS_TOKEN']\n",
    "wml_credentials = {\n",
    "\"token\": cpdtoken,\n",
    "\"instance_id\" : \"openshift\",\n",
    "\"url\": os.environ['RUNTIME_ENV_APSX_URL'],\n",
    "\"version\": \"4.0\"\n",
    "}\n",
    "\n",
    "from ibm_watson_machine_learning import APIClient\n",
    "client = APIClient(wml_credentials)\n"
   ]
  },
  {
   "cell_type": "code",
   "execution_count": null,
   "metadata": {
    "id": "c0debd669c2b4cc2b89a08bfb7d20732"
   },
   "outputs": [],
   "source": [
    "def getSpaceIDwml(wml_client,space_name):\n",
    "    spaces = wml_client.spaces.get_details()['resources'];\n",
    "    spaceList = next(item for item in spaces if item['entity']['name']==space_name)\n",
    "    spaceID = spaceList['metadata']['id']\n",
    "    return spaceID"
   ]
  },
  {
   "cell_type": "code",
   "execution_count": null,
   "metadata": {
    "id": "14e8939b67c5475382b5d0919f6ca0a2"
   },
   "outputs": [],
   "source": [
    "space_name=TARGET_DEPLOYMENT_SPACE_NAME\n",
    "space_id = getSpaceIDwml(client,space_name)\n",
    "print(space_id)\n",
    "client.set.default_space(space_id)"
   ]
  },
  {
   "cell_type": "code",
   "execution_count": null,
   "metadata": {
    "id": "ce6e6962803f495d858dc9d1ac6ead0b"
   },
   "outputs": [],
   "source": [
    "space_details=client.spaces.get_details(space_id)"
   ]
  },
  {
   "cell_type": "code",
   "execution_count": null,
   "metadata": {
    "id": "d8baa4de4a0d473a94886a3347927701"
   },
   "outputs": [],
   "source": [
    "client.repository.list_models()"
   ]
  },
  {
   "cell_type": "code",
   "execution_count": null,
   "metadata": {
    "id": "da3266229989419ea4bdd7fa146d801c"
   },
   "outputs": [],
   "source": [
    "def getModelDetails(wml_client,deployment_name):\n",
    "    models = wml_client.deployments.get_details()['resources'];\n",
    "    modelList = next(item for item in models if item['entity']['name']==deployment_name)\n",
    "    #modelID = modelList['metadata']['id']\n",
    "    #return modelID\n",
    "    return modelList\n",
    "    "
   ]
  },
  {
   "cell_type": "code",
   "execution_count": null,
   "metadata": {
    "id": "1082e1c47478422682da6ac9aeae639c"
   },
   "outputs": [],
   "source": [
    "model_name=TARGET_MODEL_NAME\n",
    "model_details = getModelDetails(client,model_name)\n",
    "print(model_details)"
   ]
  },
  {
   "cell_type": "raw",
   "metadata": {
    "id": "36d8bee10a4f4393bfd72f36f842f20e"
   },
   "source": [
    "scoring_endpoint = client.deployments.get_scoring_href(model_details)\n",
    "print(scoring_endpoint)"
   ]
  },
  {
   "cell_type": "code",
   "execution_count": null,
   "metadata": {
    "id": "5a44cf78fd934ba8aa56444f5581b9be"
   },
   "outputs": [],
   "source": [
    "# Score the model on a test dataset\n",
    "scoring_payload = {\n",
    "    \"input_data\": [{\n",
    "        'fields': ['ID', 'LONGDISTANCE', 'INTERNATIONAL', 'LOCAL', 'DROPPED', 'PAYMETHOD', 'LOCALBILLTYPE', 'LONGDISTANCEBILLTYPE', 'USAGE', 'RATEPLAN', 'GENDER','STATUS', 'CHILDREN', 'ESTINCOME', 'CAROWNER', 'AGE'],\n",
    "        'values': [[1,28,0,60,0,\"Auto\",\"FreeLocal\",\"Standard\",89,4,\"F\",\"M\",1,23000,\"N\",45]]}]\n",
    "}\n",
    "\n"
   ]
  },
  {
   "cell_type": "code",
   "execution_count": null,
   "metadata": {
    "id": "64f7489abbc34718972da8381c1cea1f"
   },
   "outputs": [],
   "source": [
    "modelID=model_details['metadata']['id']\n",
    "predictions = client.deployments.score(modelID, scoring_payload)\n",
    "print(json.dumps(predictions, indent=2))"
   ]
  },
  {
   "cell_type": "markdown",
   "metadata": {
    "id": "941b4c25-3012-44b5-9826-4ab809af93a0"
   },
   "source": [
    "# Summary #\n",
    "This notebook illustrates one approach to apply CI/CD against your models where you can automate continuous integration and delivery of models from UAT (or preProd) deployment space to production deployment space."
   ]
  },
  {
   "cell_type": "code",
   "execution_count": null,
   "metadata": {
    "id": "bdeebc9b-97e1-4027-ad77-e578ad231429"
   },
   "outputs": [],
   "source": []
  }
 ],
 "metadata": {
  "kernelspec": {
   "display_name": "Python 3.8",
   "language": "python",
   "name": "python3"
  },
  "language_info": {
   "codemirror_mode": {
    "name": "ipython",
    "version": 3
   },
   "file_extension": ".py",
   "mimetype": "text/x-python",
   "name": "python",
   "nbconvert_exporter": "python",
   "pygments_lexer": "ipython3",
   "version": "3.8.11"
  }
 },
 "nbformat": 4,
 "nbformat_minor": 1
}
